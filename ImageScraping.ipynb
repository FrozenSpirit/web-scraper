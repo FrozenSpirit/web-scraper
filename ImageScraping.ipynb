{
 "cells": [
  {
   "cell_type": "code",
   "execution_count": 1,
   "id": "6e2ee3e3",
   "metadata": {},
   "outputs": [],
   "source": [
    "import bs4\n",
    "import requests"
   ]
  },
  {
   "cell_type": "code",
   "execution_count": 2,
   "id": "5afe6a6f",
   "metadata": {},
   "outputs": [],
   "source": [
    "url = \"https://www.passiton.com/inspirational-quotes\""
   ]
  },
  {
   "cell_type": "code",
   "execution_count": 3,
   "id": "d775d184",
   "metadata": {},
   "outputs": [],
   "source": [
    "response = requests.get(url)"
   ]
  },
  {
   "cell_type": "code",
   "execution_count": 5,
   "id": "94fd2070",
   "metadata": {},
   "outputs": [],
   "source": [
    "# makes it python object, need not provide whole response, just content\n",
    "soup = bs4.BeautifulSoup(response.content, 'lxml')"
   ]
  },
  {
   "cell_type": "code",
   "execution_count": 20,
   "id": "029744a0",
   "metadata": {},
   "outputs": [],
   "source": [
    "div_element = soup.findAll('div', {'class' : 'col-6 col-lg-3 text-center margin-30px-bottom sm-margin-30px-top'})"
   ]
  },
  {
   "cell_type": "code",
   "execution_count": 24,
   "id": "8328320b",
   "metadata": {},
   "outputs": [
    {
     "name": "stdout",
     "output_type": "stream",
     "text": [
      "<class 'bs4.element.ResultSet'>\n"
     ]
    }
   ],
   "source": [
    "print(type(div_element))"
   ]
  },
  {
   "cell_type": "code",
   "execution_count": 25,
   "id": "06957e0a",
   "metadata": {},
   "outputs": [
    {
     "name": "stdout",
     "output_type": "stream",
     "text": [
      "32\n"
     ]
    }
   ],
   "source": [
    "print(len(div_element))"
   ]
  },
  {
   "cell_type": "code",
   "execution_count": 26,
   "id": "1a8a25e0",
   "metadata": {},
   "outputs": [],
   "source": [
    "div = div_element[0]"
   ]
  },
  {
   "cell_type": "code",
   "execution_count": 27,
   "id": "b996a666",
   "metadata": {},
   "outputs": [
    {
     "name": "stdout",
     "output_type": "stream",
     "text": [
      "<div class=\"col-6 col-lg-3 text-center margin-30px-bottom sm-margin-30px-top\">\n",
      "<a href=\"/inspirational-quotes/8312-peace-is-a-day-to-day-problem-the-product-of-a\"><img alt=\"Peace is a day-to-day problem, the product of a multitude of events and judgments. Peace is not an ‘is,’ it is a ‘becoming.’ #&lt;Author:0x000055d6e07500f0&gt;\" class=\"margin-10px-bottom shadow\" height=\"310\" src=\"https://assets.passiton.com/quotes/quote_artwork/8312/medium/20220310_thursday_quote.jpg?1646441651\" width=\"310\"/></a>\n",
      "<h5 class=\"value_on_red\"><a href=\"/inspirational-quotes/8312-peace-is-a-day-to-day-problem-the-product-of-a\">PEACE</a></h5>\n",
      "</div>\n"
     ]
    }
   ],
   "source": [
    "print(div)"
   ]
  },
  {
   "cell_type": "code",
   "execution_count": 28,
   "id": "cee3513f",
   "metadata": {},
   "outputs": [
    {
     "data": {
      "text/plain": [
       "<a href=\"/inspirational-quotes/8312-peace-is-a-day-to-day-problem-the-product-of-a\"><img alt=\"Peace is a day-to-day problem, the product of a multitude of events and judgments. Peace is not an ‘is,’ it is a ‘becoming.’ #&lt;Author:0x000055d6e07500f0&gt;\" class=\"margin-10px-bottom shadow\" height=\"310\" src=\"https://assets.passiton.com/quotes/quote_artwork/8312/medium/20220310_thursday_quote.jpg?1646441651\" width=\"310\"/></a>"
      ]
     },
     "execution_count": 28,
     "metadata": {},
     "output_type": "execute_result"
    }
   ],
   "source": [
    "div.a"
   ]
  },
  {
   "cell_type": "code",
   "execution_count": 29,
   "id": "55152f34",
   "metadata": {},
   "outputs": [
    {
     "data": {
      "text/plain": [
       "'/inspirational-quotes/8312-peace-is-a-day-to-day-problem-the-product-of-a'"
      ]
     },
     "execution_count": 29,
     "metadata": {},
     "output_type": "execute_result"
    }
   ],
   "source": [
    "div.a['href']"
   ]
  },
  {
   "cell_type": "code",
   "execution_count": 30,
   "id": "1cceb93c",
   "metadata": {},
   "outputs": [
    {
     "data": {
      "text/plain": [
       "<img alt=\"Peace is a day-to-day problem, the product of a multitude of events and judgments. Peace is not an ‘is,’ it is a ‘becoming.’ #&lt;Author:0x000055d6e07500f0&gt;\" class=\"margin-10px-bottom shadow\" height=\"310\" src=\"https://assets.passiton.com/quotes/quote_artwork/8312/medium/20220310_thursday_quote.jpg?1646441651\" width=\"310\"/>"
      ]
     },
     "execution_count": 30,
     "metadata": {},
     "output_type": "execute_result"
    }
   ],
   "source": [
    "div.img"
   ]
  },
  {
   "cell_type": "code",
   "execution_count": 33,
   "id": "b6999cba",
   "metadata": {},
   "outputs": [
    {
     "data": {
      "text/plain": [
       "'https://assets.passiton.com/quotes/quote_artwork/8312/medium/20220310_thursday_quote.jpg?1646441651'"
      ]
     },
     "execution_count": 33,
     "metadata": {},
     "output_type": "execute_result"
    }
   ],
   "source": [
    "div.img.attrs['src']"
   ]
  },
  {
   "cell_type": "code",
   "execution_count": 35,
   "id": "7dab2692",
   "metadata": {},
   "outputs": [],
   "source": [
    "with open('inspiration.jpg', 'wb') as f:\n",
    "    image_url = div.img.attrs['src']\n",
    "    response = requests.get(image_url)\n",
    "    f.write(response.content)"
   ]
  },
  {
   "cell_type": "code",
   "execution_count": null,
   "id": "cb8e8c5b",
   "metadata": {},
   "outputs": [],
   "source": [
    "for index,divi in enumerate(div_element):\n",
    "    with open(f'inspiration{index}.jpg', 'wb') as f:\n",
    "        image_url = divi.img.attrs['src']\n",
    "        response = requests.get(image_url)\n",
    "        f.write(response.content)"
   ]
  },
  {
   "cell_type": "code",
   "execution_count": null,
   "id": "509ec9d7",
   "metadata": {},
   "outputs": [],
   "source": []
  }
 ],
 "metadata": {
  "kernelspec": {
   "display_name": "Python 3 (ipykernel)",
   "language": "python",
   "name": "python3"
  },
  "language_info": {
   "codemirror_mode": {
    "name": "ipython",
    "version": 3
   },
   "file_extension": ".py",
   "mimetype": "text/x-python",
   "name": "python",
   "nbconvert_exporter": "python",
   "pygments_lexer": "ipython3",
   "version": "3.9.12"
  }
 },
 "nbformat": 4,
 "nbformat_minor": 5
}
