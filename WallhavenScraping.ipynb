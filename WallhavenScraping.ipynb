{
 "cells": [
  {
   "cell_type": "code",
   "execution_count": 1,
   "id": "7b6a7f40",
   "metadata": {},
   "outputs": [],
   "source": [
    "from bs4 import BeautifulSoup\n",
    "import requests"
   ]
  },
  {
   "cell_type": "code",
   "execution_count": 2,
   "id": "b137d462",
   "metadata": {},
   "outputs": [],
   "source": [
    "url = \"https://wallhaven.cc/search?q=id:65348&sorting=random&ref=fp\""
   ]
  },
  {
   "cell_type": "code",
   "execution_count": 3,
   "id": "0cb2c76d",
   "metadata": {},
   "outputs": [],
   "source": [
    "response = requests.get(url)"
   ]
  },
  {
   "cell_type": "code",
   "execution_count": 4,
   "id": "7771e829",
   "metadata": {},
   "outputs": [
    {
     "name": "stdout",
     "output_type": "stream",
     "text": [
      "<Response [200]>\n"
     ]
    }
   ],
   "source": [
    "print(response)"
   ]
  },
  {
   "cell_type": "code",
   "execution_count": 8,
   "id": "e2fb95e1",
   "metadata": {},
   "outputs": [],
   "source": [
    "soup = BeautifulSoup(response.content, 'lxml')"
   ]
  },
  {
   "cell_type": "code",
   "execution_count": 18,
   "id": "bb0ff877",
   "metadata": {},
   "outputs": [],
   "source": [
    "div_element = soup.findAll('div', class_='thumbs-container thumb-listing infinite-scroll')"
   ]
  },
  {
   "cell_type": "code",
   "execution_count": 19,
   "id": "8aaa08dd",
   "metadata": {},
   "outputs": [
    {
     "name": "stdout",
     "output_type": "stream",
     "text": [
      "<class 'bs4.element.ResultSet'>\n"
     ]
    }
   ],
   "source": [
    "print(type(div_element))"
   ]
  },
  {
   "cell_type": "code",
   "execution_count": 21,
   "id": "092ebf2a",
   "metadata": {},
   "outputs": [],
   "source": [
    "li_element = soup.findAll('li')"
   ]
  },
  {
   "cell_type": "code",
   "execution_count": 38,
   "id": "44b8e1f6",
   "metadata": {},
   "outputs": [],
   "source": [
    "for index, li in enumerate(li_element):\n",
    "    if(li.figure is not None):\n",
    "#         image_src = lii.figure.img.attrs['data-src']\n",
    "#         print(image_src)\n",
    "        with open(f\"wallhaven{index}.jpg\", 'wb') as f:\n",
    "            image_src = li.figure.img.attrs['data-src']\n",
    "            response = requests.get(image_src)\n",
    "            f.write(response.content)"
   ]
  },
  {
   "cell_type": "code",
   "execution_count": null,
   "id": "94724abc",
   "metadata": {},
   "outputs": [],
   "source": []
  },
  {
   "cell_type": "code",
   "execution_count": null,
   "id": "e83370b1",
   "metadata": {},
   "outputs": [],
   "source": []
  },
  {
   "cell_type": "code",
   "execution_count": null,
   "id": "04ac0d97",
   "metadata": {},
   "outputs": [],
   "source": []
  },
  {
   "cell_type": "code",
   "execution_count": null,
   "id": "9a91f84c",
   "metadata": {},
   "outputs": [],
   "source": []
  },
  {
   "cell_type": "code",
   "execution_count": null,
   "id": "aa54fc61",
   "metadata": {},
   "outputs": [],
   "source": []
  },
  {
   "cell_type": "code",
   "execution_count": null,
   "id": "9809500d",
   "metadata": {},
   "outputs": [],
   "source": []
  }
 ],
 "metadata": {
  "kernelspec": {
   "display_name": "Python 3 (ipykernel)",
   "language": "python",
   "name": "python3"
  },
  "language_info": {
   "codemirror_mode": {
    "name": "ipython",
    "version": 3
   },
   "file_extension": ".py",
   "mimetype": "text/x-python",
   "name": "python",
   "nbconvert_exporter": "python",
   "pygments_lexer": "ipython3",
   "version": "3.9.12"
  }
 },
 "nbformat": 4,
 "nbformat_minor": 5
}
